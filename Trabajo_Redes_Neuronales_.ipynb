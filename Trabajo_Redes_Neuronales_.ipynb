{
  "nbformat": 4,
  "nbformat_minor": 0,
  "metadata": {
    "colab": {
      "provenance": []
    },
    "kernelspec": {
      "name": "python3",
      "display_name": "Python 3"
    },
    "language_info": {
      "name": "python"
    }
  },
  "cells": [
    {
      "cell_type": "markdown",
      "source": [
        "- Importamos Keras y Tenserflow"
      ],
      "metadata": {
        "id": "-KkrBBsQqpDW"
      }
    },
    {
      "cell_type": "code",
      "execution_count": null,
      "metadata": {
        "id": "m11O--IOpZA-"
      },
      "outputs": [],
      "source": [
        "from tensorflow.keras.models import Sequential\n",
        "from tensorflow.keras.layers import Dense, Flatten, Conv2D, MaxPooling2D, Dropout\n",
        "from tensorflow.keras.utils import to_categorical\n",
        "from sklearn.decomposition import PCA\n",
        "from tensorflow.keras.datasets import mnist\n",
        "import numpy as np\n",
        "import matplotlib.pyplot as plt"
      ]
    },
    {
      "cell_type": "markdown",
      "source": [
        "- Cargar Datos:"
      ],
      "metadata": {
        "id": "njPXL-qxq9kG"
      }
    },
    {
      "cell_type": "code",
      "source": [
        "(X_train, y_train), (X_test, y_test) = mnist.load_data()"
      ],
      "metadata": {
        "id": "3Th4WeWBpsRK"
      },
      "execution_count": null,
      "outputs": []
    },
    {
      "cell_type": "markdown",
      "source": [
        "- Importamos un compuesto de datos MNIST que tiene un total de mas de 70.000 imagenes que contiene digitos de 0 al 9 escrito a mano. Estos datos se usaran para entrenar este modelo del trabajo."
      ],
      "metadata": {
        "id": "0P6IFe94qqV7"
      }
    },
    {
      "cell_type": "code",
      "source": [
        "plt.figure()\n",
        "for i in range(4):\n",
        "    plt.subplot(2, 2, i + 1)\n",
        "    plt.imshow(X_train[i], cmap='gray')\n",
        "    plt.title(f\"Etiqueta: {y_train[i]}\")\n",
        "    plt.axis('off')\n",
        "plt.tight_layout()\n",
        "plt.show()"
      ],
      "metadata": {
        "colab": {
          "base_uri": "https://localhost:8080/",
          "height": 486
        },
        "id": "mByiVM5jpsPD",
        "outputId": "4f94814e-78bb-4c70-969b-fec3bb38dc66"
      },
      "execution_count": null,
      "outputs": [
        {
          "output_type": "display_data",
          "data": {
            "text/plain": [
              "<Figure size 640x480 with 4 Axes>"
            ],
            "image/png": "[encoded data removed]"
          },
          "metadata": {}
        }
      ]
    },
    {
      "cell_type": "markdown",
      "source": [
        "- Normalizamos las Imagenes."
      ],
      "metadata": {
        "id": "iWE0DWcPrOu0"
      }
    },
    {
      "cell_type": "code",
      "source": [
        "X_train, X_test = X_train / 255.0, X_test / 255.0\n",
        "X_train = X_train.reshape(-1, 28, 28, 1)\n",
        "X_test = X_test.reshape(-1, 28, 28, 1)"
      ],
      "metadata": {
        "id": "5MP0wvPRpsMq"
      },
      "execution_count": null,
      "outputs": []
    },
    {
      "cell_type": "markdown",
      "source": [
        "- Aplanar las imágenes para PCA."
      ],
      "metadata": {
        "id": "NOl8rbrorT0R"
      }
    },
    {
      "cell_type": "code",
      "source": [
        "X_train_flat = X_train.reshape(-1, 28 * 28)\n",
        "X_test_flat = X_test.reshape(-1, 28 * 28)"
      ],
      "metadata": {
        "id": "TGNcPdwCpsKb"
      },
      "execution_count": null,
      "outputs": []
    },
    {
      "cell_type": "markdown",
      "source": [
        "- Aplicar PCA para reducir la dimensionalidad."
      ],
      "metadata": {
        "id": "7ctwglO5rYvo"
      }
    },
    {
      "cell_type": "code",
      "source": [
        "pca = PCA(n_components=0.95)\n",
        "X_train_pca = pca.fit_transform(X_train_flat)\n",
        "X_test_pca = pca.transform(X_test_flat)"
      ],
      "metadata": {
        "id": "Hy0UWPyspsII"
      },
      "execution_count": null,
      "outputs": []
    },
    {
      "cell_type": "code",
      "source": [
        "print(f\"Dimensiones originales: {X_train_flat.shape}\")\n",
        "print(f\"Dimensiones reducidas con PCA: {X_train_pca.shape}\")"
      ],
      "metadata": {
        "colab": {
          "base_uri": "https://localhost:8080/"
        },
        "id": "ivC4rVqXpsFq",
        "outputId": "1afb54fe-a278-42a9-e3f1-1bab77a3f949"
      },
      "execution_count": null,
      "outputs": [
        {
          "output_type": "stream",
          "name": "stdout",
          "text": [
            "Dimensiones originales: (60000, 784)\n",
            "Dimensiones reducidas con PCA: (60000, 154)\n"
          ]
        }
      ]
    },
    {
      "cell_type": "markdown",
      "source": [
        "- Estamos realizando aprendizaje supervisado.\n",
        "- Normalizamos los pixeles el nivel de negro varia entre 0 y 1 en vez de 0 y 255.\n",
        "- Redimensionamos los datos, añadiendo una dimensión extra.\n",
        "- Convertimos las etiquetas."
      ],
      "metadata": {
        "id": "lFiDSMiGrfeR"
      }
    },
    {
      "cell_type": "code",
      "source": [
        "X_train_cnn = X_train.reshape(-1, 28, 28, 1)\n",
        "X_test_cnn = X_test.reshape(-1, 28, 28, 1)"
      ],
      "metadata": {
        "id": "xD8olOy_psCo"
      },
      "execution_count": null,
      "outputs": []
    },
    {
      "cell_type": "markdown",
      "source": [
        "- Convertir etiquetas a one-hot encoding."
      ],
      "metadata": {
        "id": "gKKXYdVgrmMr"
      }
    },
    {
      "cell_type": "code",
      "source": [
        "y_train_one_hot = to_categorical(y_train)\n",
        "y_test_one_hot = to_categorical(y_test)"
      ],
      "metadata": {
        "id": "l2iwzOczpr_5"
      },
      "execution_count": null,
      "outputs": []
    },
    {
      "cell_type": "markdown",
      "source": [
        "- Definimos la arquitectura de nuestro modelo que trata de un CNN."
      ],
      "metadata": {
        "id": "FPTuEHtwqnqm"
      }
    },
    {
      "cell_type": "code",
      "source": [
        "cnn_model = Sequential([\n",
        "    Conv2D(32, (3, 3), activation='relu', input_shape=(28, 28, 1)),\n",
        "    MaxPooling2D((2, 2)),\n",
        "    Dropout(0.25),\n",
        "    Conv2D(64, (3, 3), activation='relu'),\n",
        "    MaxPooling2D((2, 2)),\n",
        "    Flatten(),\n",
        "    Dense(128, activation='relu'),\n",
        "    Dropout(0.5),\n",
        "    Dense(10, activation='softmax')\n",
        "])\n",
        "\n",
        "cnn_model.compile(optimizer='adam',\n",
        "                  loss='categorical_crossentropy',\n",
        "                  metrics=['accuracy'])"
      ],
      "metadata": {
        "colab": {
          "base_uri": "https://localhost:8080/"
        },
        "id": "E90S0chJp4ym",
        "outputId": "a67c8db5-77a4-49ca-e811-6b855be72b40"
      },
      "execution_count": null,
      "outputs": [
        {
          "output_type": "stream",
          "name": "stderr",
          "text": [
            "/usr/local/lib/python3.10/dist-packages/keras/src/layers/convolutional/base_conv.py:107: UserWarning: Do not pass an `input_shape`/`input_dim` argument to a layer. When using Sequential models, prefer using an `Input(shape)` object as the first layer in the model instead.\n",
            "  super().__init__(activity_regularizer=activity_regularizer, **kwargs)\n"
          ]
        }
      ]
    },
    {
      "cell_type": "markdown",
      "source": [
        "- Entrenar el modelo CNN"
      ],
      "metadata": {
        "id": "I8nnkBTGry7x"
      }
    },
    {
      "cell_type": "code",
      "source": [
        "cnn_model.fit(X_train_cnn, y_train_one_hot,\n",
        "              epochs=5, batch_size=32,\n",
        "              validation_data=(X_test_cnn, y_test_one_hot))"
      ],
      "metadata": {
        "colab": {
          "base_uri": "https://localhost:8080/"
        },
        "id": "uTWWRUQhp4wR",
        "outputId": "8aa313b7-c903-4e75-a3e0-e53c45237d7c"
      },
      "execution_count": null,
      "outputs": [
        {
          "output_type": "stream",
          "name": "stdout",
          "text": [
            "Epoch 1/5\n",
            "\u001b[1m1875/1875\u001b[0m \u001b[32m━━━━━━━━━━━━━━━━━━━━\u001b[0m\u001b[37m\u001b[0m \u001b[1m63s\u001b[0m 33ms/step - accuracy: 0.8481 - loss: 0.4727 - val_accuracy: 0.9834 - val_loss: 0.0503\n",
            "Epoch 2/5\n",
            "\u001b[1m1875/1875\u001b[0m \u001b[32m━━━━━━━━━━━━━━━━━━━━\u001b[0m\u001b[37m\u001b[0m \u001b[1m63s\u001b[0m 34ms/step - accuracy: 0.9703 - loss: 0.0992 - val_accuracy: 0.9891 - val_loss: 0.0331\n",
            "Epoch 3/5\n",
            "\u001b[1m1875/1875\u001b[0m \u001b[32m━━━━━━━━━━━━━━━━━━━━\u001b[0m\u001b[37m\u001b[0m \u001b[1m81s\u001b[0m 33ms/step - accuracy: 0.9793 - loss: 0.0697 - val_accuracy: 0.9881 - val_loss: 0.0327\n",
            "Epoch 4/5\n",
            "\u001b[1m1875/1875\u001b[0m \u001b[32m━━━━━━━━━━━━━━━━━━━━\u001b[0m\u001b[37m\u001b[0m \u001b[1m78s\u001b[0m 31ms/step - accuracy: 0.9828 - loss: 0.0591 - val_accuracy: 0.9919 - val_loss: 0.0257\n",
            "Epoch 5/5\n",
            "\u001b[1m1875/1875\u001b[0m \u001b[32m━━━━━━━━━━━━━━━━━━━━\u001b[0m\u001b[37m\u001b[0m \u001b[1m57s\u001b[0m 30ms/step - accuracy: 0.9837 - loss: 0.0520 - val_accuracy: 0.9906 - val_loss: 0.0251\n"
          ]
        },
        {
          "output_type": "execute_result",
          "data": {
            "text/plain": [
              "<keras.src.callbacks.history.History at 0x7b53a3fd18d0>"
            ]
          },
          "metadata": {},
          "execution_count": 36
        }
      ]
    },
    {
      "cell_type": "markdown",
      "source": [
        "- Evaluación del modelo CNN."
      ],
      "metadata": {
        "id": "eMJFSmWYr3rc"
      }
    },
    {
      "cell_type": "code",
      "source": [
        "_, cnn_accuracy = cnn_model.evaluate(X_test_cnn, y_test_one_hot, verbose=0)\n",
        "print(f\"Accuracy del modelo CNN: {cnn_accuracy * 100:.2f}%\")"
      ],
      "metadata": {
        "colab": {
          "base_uri": "https://localhost:8080/"
        },
        "id": "q11aiUywp4t_",
        "outputId": "035795f5-14c1-4b64-e035-51809008627a"
      },
      "execution_count": null,
      "outputs": [
        {
          "output_type": "stream",
          "name": "stdout",
          "text": [
            "Accuracy del modelo CNN: 99.06%\n"
          ]
        }
      ]
    },
    {
      "cell_type": "markdown",
      "source": [
        "- Modelo con PCA y red densa:"
      ],
      "metadata": {
        "id": "--n4I_Emr6zr"
      }
    },
    {
      "cell_type": "code",
      "source": [
        "pca_model = Sequential([\n",
        "    Dense(128, activation='relu', input_shape=(X_train_pca.shape[1],)),\n",
        "    Dense(64, activation='relu'),\n",
        "    Dense(10, activation='softmax')\n",
        "])\n",
        "\n",
        "pca_model.compile(optimizer='adam',\n",
        "                  loss='categorical_crossentropy',\n",
        "                  metrics=['accuracy'])"
      ],
      "metadata": {
        "colab": {
          "base_uri": "https://localhost:8080/"
        },
        "id": "sSXcMk_2p4r1",
        "outputId": "9d420dff-0b5a-4daf-927f-ce6421ca101e"
      },
      "execution_count": null,
      "outputs": [
        {
          "output_type": "stream",
          "name": "stderr",
          "text": [
            "/usr/local/lib/python3.10/dist-packages/keras/src/layers/core/dense.py:87: UserWarning: Do not pass an `input_shape`/`input_dim` argument to a layer. When using Sequential models, prefer using an `Input(shape)` object as the first layer in the model instead.\n",
            "  super().__init__(activity_regularizer=activity_regularizer, **kwargs)\n"
          ]
        }
      ]
    },
    {
      "cell_type": "markdown",
      "source": [
        "- Entrenar el modelo PCA"
      ],
      "metadata": {
        "id": "JU1xc33YsBbl"
      }
    },
    {
      "cell_type": "code",
      "source": [
        "pca_model.fit(X_train_pca, y_train_one_hot,\n",
        "              epochs=10, batch_size=32,\n",
        "              validation_data=(X_test_pca, y_test_one_hot))"
      ],
      "metadata": {
        "colab": {
          "base_uri": "https://localhost:8080/"
        },
        "id": "6O3i6LG8p4o6",
        "outputId": "a8d43678-acd6-46fd-bc32-0331248950ab"
      },
      "execution_count": null,
      "outputs": [
        {
          "output_type": "stream",
          "name": "stdout",
          "text": [
            "Epoch 1/10\n",
            "\u001b[1m1875/1875\u001b[0m \u001b[32m━━━━━━━━━━━━━━━━━━━━\u001b[0m\u001b[37m\u001b[0m \u001b[1m4s\u001b[0m 2ms/step - accuracy: 0.8591 - loss: 0.5048 - val_accuracy: 0.9615 - val_loss: 0.1257\n",
            "Epoch 2/10\n",
            "\u001b[1m1875/1875\u001b[0m \u001b[32m━━━━━━━━━━━━━━━━━━━━\u001b[0m\u001b[37m\u001b[0m \u001b[1m5s\u001b[0m 2ms/step - accuracy: 0.9717 - loss: 0.0930 - val_accuracy: 0.9738 - val_loss: 0.0893\n",
            "Epoch 3/10\n",
            "\u001b[1m1875/1875\u001b[0m \u001b[32m━━━━━━━━━━━━━━━━━━━━\u001b[0m\u001b[37m\u001b[0m \u001b[1m5s\u001b[0m 2ms/step - accuracy: 0.9833 - loss: 0.0567 - val_accuracy: 0.9740 - val_loss: 0.0864\n",
            "Epoch 4/10\n",
            "\u001b[1m1875/1875\u001b[0m \u001b[32m━━━━━━━━━━━━━━━━━━━━\u001b[0m\u001b[37m\u001b[0m \u001b[1m4s\u001b[0m 2ms/step - accuracy: 0.9884 - loss: 0.0392 - val_accuracy: 0.9756 - val_loss: 0.0837\n",
            "Epoch 5/10\n",
            "\u001b[1m1875/1875\u001b[0m \u001b[32m━━━━━━━━━━━━━━━━━━━━\u001b[0m\u001b[37m\u001b[0m \u001b[1m6s\u001b[0m 2ms/step - accuracy: 0.9926 - loss: 0.0250 - val_accuracy: 0.9744 - val_loss: 0.0843\n",
            "Epoch 6/10\n",
            "\u001b[1m1875/1875\u001b[0m \u001b[32m━━━━━━━━━━━━━━━━━━━━\u001b[0m\u001b[37m\u001b[0m \u001b[1m3s\u001b[0m 2ms/step - accuracy: 0.9940 - loss: 0.0197 - val_accuracy: 0.9772 - val_loss: 0.0842\n",
            "Epoch 7/10\n",
            "\u001b[1m1875/1875\u001b[0m \u001b[32m━━━━━━━━━━━━━━━━━━━━\u001b[0m\u001b[37m\u001b[0m \u001b[1m4s\u001b[0m 2ms/step - accuracy: 0.9959 - loss: 0.0137 - val_accuracy: 0.9734 - val_loss: 0.1070\n",
            "Epoch 8/10\n",
            "\u001b[1m1875/1875\u001b[0m \u001b[32m━━━━━━━━━━━━━━━━━━━━\u001b[0m\u001b[37m\u001b[0m \u001b[1m6s\u001b[0m 2ms/step - accuracy: 0.9957 - loss: 0.0133 - val_accuracy: 0.9763 - val_loss: 0.0965\n",
            "Epoch 9/10\n",
            "\u001b[1m1875/1875\u001b[0m \u001b[32m━━━━━━━━━━━━━━━━━━━━\u001b[0m\u001b[37m\u001b[0m \u001b[1m4s\u001b[0m 2ms/step - accuracy: 0.9957 - loss: 0.0128 - val_accuracy: 0.9742 - val_loss: 0.1081\n",
            "Epoch 10/10\n",
            "\u001b[1m1875/1875\u001b[0m \u001b[32m━━━━━━━━━━━━━━━━━━━━\u001b[0m\u001b[37m\u001b[0m \u001b[1m4s\u001b[0m 2ms/step - accuracy: 0.9973 - loss: 0.0087 - val_accuracy: 0.9746 - val_loss: 0.1115\n"
          ]
        },
        {
          "output_type": "execute_result",
          "data": {
            "text/plain": [
              "<keras.src.callbacks.history.History at 0x7b53c2a85f30>"
            ]
          },
          "metadata": {},
          "execution_count": 39
        }
      ]
    },
    {
      "cell_type": "markdown",
      "source": [
        "- Evaluación del modelo PCA"
      ],
      "metadata": {
        "id": "dgvKR0nXsEyR"
      }
    },
    {
      "cell_type": "code",
      "source": [
        "_, pca_accuracy = pca_model.evaluate(X_test_pca, y_test_one_hot, verbose=0)\n",
        "print(f\"Accuracy del modelo con PCA: {pca_accuracy * 100:.2f}%\")"
      ],
      "metadata": {
        "colab": {
          "base_uri": "https://localhost:8080/"
        },
        "id": "0l5kMvA6qCbl",
        "outputId": "cacd8f79-cb39-4cb5-ef93-3e106d873615"
      },
      "execution_count": null,
      "outputs": [
        {
          "output_type": "stream",
          "name": "stdout",
          "text": [
            "Accuracy del modelo con PCA: 97.46%\n"
          ]
        }
      ]
    },
    {
      "cell_type": "markdown",
      "source": [
        "- Predicciones del modelo CNN"
      ],
      "metadata": {
        "id": "M_MgFNcRsKwW"
      }
    },
    {
      "cell_type": "code",
      "source": [
        "predictions = cnn_model.predict(X_test[:30])"
      ],
      "metadata": {
        "colab": {
          "base_uri": "https://localhost:8080/"
        },
        "id": "-wG0qhzEqIr_",
        "outputId": "6e3bf384-26d4-4044-c791-dce61c3fbe76"
      },
      "execution_count": null,
      "outputs": [
        {
          "output_type": "stream",
          "name": "stdout",
          "text": [
            "\u001b[1m1/1\u001b[0m \u001b[32m━━━━━━━━━━━━━━━━━━━━\u001b[0m\u001b[37m\u001b[0m \u001b[1m0s\u001b[0m 74ms/step\n"
          ]
        }
      ]
    },
    {
      "cell_type": "markdown",
      "source": [
        "- Visualizar predicciones y etiquetas reales"
      ],
      "metadata": {
        "id": "erP9GtIesORP"
      }
    },
    {
      "cell_type": "code",
      "source": [
        "plt.figure(figsize=(15, 20))\n",
        "for i in range(30):\n",
        "    plt.subplot(6, 5, i + 1)\n",
        "    plt.imshow(X_test[i].reshape(28, 28), cmap='gray')\n",
        "    plt.title(f\"Real: {np.argmax(y_test_one_hot[i])}\\nPred: {np.argmax(predictions[i])}\")\n",
        "    plt.axis('off')\n",
        "plt.tight_layout()\n",
        "plt.show()"
      ],
      "metadata": {
        "colab": {
          "base_uri": "https://localhost:8080/",
          "height": 1000
        },
        "id": "DOvRU02gqIqB",
        "outputId": "1197eee5-3967-424b-de7f-cd55c23b6ff0"
      },
      "execution_count": null,
      "outputs": [
        {
          "output_type": "display_data",
          "data": {
            "text/plain": [
              "<Figure size 1500x2000 with 30 Axes>"
            ],
            "image/png": "[encoded data removed]"
          },
          "metadata": {}
        }
      ]
    },
    {
      "cell_type": "markdown",
      "source": [
        "- Imprimir confianza y etiquetas reales/predichas"
      ],
      "metadata": {
        "id": "y2OLLOipsWH5"
      }
    },
    {
      "cell_type": "code",
      "source": [
        "for i in range(30):\n",
        "    print(f\"Imagen {i + 1}:\")\n",
        "    print(f\"Etiqueta real: {np.argmax(y_test_one_hot[i])}\")\n",
        "    print(f\"Predicción: {np.argmax(predictions[i])}\")\n",
        "    print(f\"Confianza: {np.max(predictions[i]) * 100:.2f}%\")\n",
        "    print(\"-\" * 30)"
      ],
      "metadata": {
        "colab": {
          "base_uri": "https://localhost:8080/"
        },
        "id": "qerXCVaLqInX",
        "outputId": "97af032f-3995-4a19-f5c2-d78581b78473"
      },
      "execution_count": null,
      "outputs": [
        {
          "output_type": "stream",
          "name": "stdout",
          "text": [
            "Imagen 1:\n",
            "Etiqueta real: 7\n",
            "Predicción: 7\n",
            "Confianza: 100.00%\n",
            "------------------------------\n",
            "Imagen 2:\n",
            "Etiqueta real: 2\n",
            "Predicción: 2\n",
            "Confianza: 100.00%\n",
            "------------------------------\n",
            "Imagen 3:\n",
            "Etiqueta real: 1\n",
            "Predicción: 1\n",
            "Confianza: 100.00%\n",
            "------------------------------\n",
            "Imagen 4:\n",
            "Etiqueta real: 0\n",
            "Predicción: 0\n",
            "Confianza: 99.99%\n",
            "------------------------------\n",
            "Imagen 5:\n",
            "Etiqueta real: 4\n",
            "Predicción: 4\n",
            "Confianza: 100.00%\n",
            "------------------------------\n",
            "Imagen 6:\n",
            "Etiqueta real: 1\n",
            "Predicción: 1\n",
            "Confianza: 100.00%\n",
            "------------------------------\n",
            "Imagen 7:\n",
            "Etiqueta real: 4\n",
            "Predicción: 4\n",
            "Confianza: 99.99%\n",
            "------------------------------\n",
            "Imagen 8:\n",
            "Etiqueta real: 9\n",
            "Predicción: 9\n",
            "Confianza: 99.98%\n",
            "------------------------------\n",
            "Imagen 9:\n",
            "Etiqueta real: 5\n",
            "Predicción: 5\n",
            "Confianza: 99.32%\n",
            "------------------------------\n",
            "Imagen 10:\n",
            "Etiqueta real: 9\n",
            "Predicción: 9\n",
            "Confianza: 99.92%\n",
            "------------------------------\n",
            "Imagen 11:\n",
            "Etiqueta real: 0\n",
            "Predicción: 0\n",
            "Confianza: 100.00%\n",
            "------------------------------\n",
            "Imagen 12:\n",
            "Etiqueta real: 6\n",
            "Predicción: 6\n",
            "Confianza: 100.00%\n",
            "------------------------------\n",
            "Imagen 13:\n",
            "Etiqueta real: 9\n",
            "Predicción: 9\n",
            "Confianza: 100.00%\n",
            "------------------------------\n",
            "Imagen 14:\n",
            "Etiqueta real: 0\n",
            "Predicción: 0\n",
            "Confianza: 100.00%\n",
            "------------------------------\n",
            "Imagen 15:\n",
            "Etiqueta real: 1\n",
            "Predicción: 1\n",
            "Confianza: 100.00%\n",
            "------------------------------\n",
            "Imagen 16:\n",
            "Etiqueta real: 5\n",
            "Predicción: 5\n",
            "Confianza: 100.00%\n",
            "------------------------------\n",
            "Imagen 17:\n",
            "Etiqueta real: 9\n",
            "Predicción: 9\n",
            "Confianza: 100.00%\n",
            "------------------------------\n",
            "Imagen 18:\n",
            "Etiqueta real: 7\n",
            "Predicción: 7\n",
            "Confianza: 100.00%\n",
            "------------------------------\n",
            "Imagen 19:\n",
            "Etiqueta real: 3\n",
            "Predicción: 3\n",
            "Confianza: 91.24%\n",
            "------------------------------\n",
            "Imagen 20:\n",
            "Etiqueta real: 4\n",
            "Predicción: 4\n",
            "Confianza: 100.00%\n",
            "------------------------------\n",
            "Imagen 21:\n",
            "Etiqueta real: 9\n",
            "Predicción: 9\n",
            "Confianza: 99.88%\n",
            "------------------------------\n",
            "Imagen 22:\n",
            "Etiqueta real: 6\n",
            "Predicción: 6\n",
            "Confianza: 100.00%\n",
            "------------------------------\n",
            "Imagen 23:\n",
            "Etiqueta real: 6\n",
            "Predicción: 6\n",
            "Confianza: 100.00%\n",
            "------------------------------\n",
            "Imagen 24:\n",
            "Etiqueta real: 5\n",
            "Predicción: 5\n",
            "Confianza: 100.00%\n",
            "------------------------------\n",
            "Imagen 25:\n",
            "Etiqueta real: 4\n",
            "Predicción: 4\n",
            "Confianza: 100.00%\n",
            "------------------------------\n",
            "Imagen 26:\n",
            "Etiqueta real: 0\n",
            "Predicción: 0\n",
            "Confianza: 100.00%\n",
            "------------------------------\n",
            "Imagen 27:\n",
            "Etiqueta real: 7\n",
            "Predicción: 7\n",
            "Confianza: 100.00%\n",
            "------------------------------\n",
            "Imagen 28:\n",
            "Etiqueta real: 4\n",
            "Predicción: 4\n",
            "Confianza: 100.00%\n",
            "------------------------------\n",
            "Imagen 29:\n",
            "Etiqueta real: 0\n",
            "Predicción: 0\n",
            "Confianza: 100.00%\n",
            "------------------------------\n",
            "Imagen 30:\n",
            "Etiqueta real: 1\n",
            "Predicción: 1\n",
            "Confianza: 100.00%\n",
            "------------------------------\n"
          ]
        }
      ]
    },
    {
      "cell_type": "markdown",
      "source": [
        "1. **Rendimiento del modelo:**\n",
        "   - El modelo basado en CNN alcanzó una precisión del {:.2f}% en el conjunto de prueba, lo cual demuestra su capacidad para generalizar correctamente sobre datos no vistos.\n",
        "   - La combinación de capas convolucionales, max-pooling y dropout ayudó a capturar características relevantes y prevenir el sobreajuste.\n",
        "\n",
        "2. **Entrenamiento:**\n",
        "   - El entrenamiento se realizó en 5 épocas con un tamaño de batch de 32. Esto fue suficiente para lograr un buen equilibrio entre rendimiento y tiempo de cómputo.\n",
        "   - El optimizador Adam, junto con la función de pérdida categórica cruzada, permitió una convergencia eficiente.\n",
        "\n",
        "3. **Datos y predicciones:**\n",
        "   - Se trabajó con el conjunto de datos MNIST, que contiene imágenes de dígitos escritos a mano normalizadas a 28x28 píxeles.\n",
        "   - El modelo realizó predicciones sobre las primeras 30 imágenes del conjunto de prueba. En la mayoría de los casos, las predicciones fueron correctas, y las probabilidades asociadas indicaron una alta confianza en los resultados.\n",
        "\n",
        "4. **Uso de TensorFlow:**\n",
        "   - TensorFlow fue fundamental para implementar la arquitectura de la red neuronal de manera eficiente.\n",
        "   - Su API de alto nivel (Keras) facilitó la construcción, entrenamiento y evaluación del modelo, además de manejar automáticamente operaciones complejas en GPU/CPU.\n",
        "\n",
        "5. **Conclusión general:**\n",
        "   - El proyecto demostró la capacidad de una CNN para resolver problemas de clasificación de imágenes con un rendimiento destacado.\n",
        "   - TensorFlow se consolida como una herramienta poderosa y accesible para implementar modelos de aprendizaje profundo en tareas similares.\n",
        "\"\"\".format(cnn_accuracy * 100))"
      ],
      "metadata": {
        "id": "-9XGutSxyZFI"
      }
    }
  ]
}